{
 "cells": [
  {
   "cell_type": "code",
   "execution_count": null,
   "metadata": {},
   "outputs": [],
   "source": [
    "pwd"
   ]
  },
  {
   "cell_type": "code",
   "execution_count": null,
   "metadata": {},
   "outputs": [],
   "source": [
    "from pathlib import *\n",
    "import numpy as np\n",
    "import pandas as pd\n",
    "from eyepackage.eye_parse import *\n",
    "from eyepackage.behave_parse import *\n",
    "from eyepackage.behave_eye_converge import *"
   ]
  },
  {
   "cell_type": "code",
   "execution_count": 1,
   "metadata": {},
   "outputs": [],
   "source": [
    "%reload_ext autoreload\n",
    "%autoreload 2"
   ]
  },
  {
   "cell_type": "code",
   "execution_count": null,
   "metadata": {},
   "outputs": [],
   "source": [
    "subids=[\"ec105\",\"ec106\",\"ec107\",\"ec108\"]    \n",
    "pathstring='/Volumes/Voss_Lab/ECOG/ecog/locationspace/ecog.eye/'\n",
    "eyepath=Path(pathstring)"
   ]
  },
  {
   "cell_type": "code",
   "execution_count": null,
   "metadata": {},
   "outputs": [],
   "source": [
    "masternames=get_eye_files(subids,eyepath)"
   ]
  },
  {
   "cell_type": "code",
   "execution_count": null,
   "metadata": {},
   "outputs": [],
   "source": [
    "study_all=masternames[masternames['phase']==\"a\"]\n",
    "refresh_all=masternames[masternames['phase']==\"b\"]\n",
    "recog_all=masternames[masternames['phase']==\"c\"]\n",
    "\n",
    "for sub in subids:\n",
    "    refresh_sub=[]\n",
    "    refresh_sub=refresh_all[refresh_all['subject']==sub]"
   ]
  },
  {
   "cell_type": "code",
   "execution_count": null,
   "metadata": {},
   "outputs": [],
   "source": [
    "# mastereyedf=[]\n",
    "sub='ec108'\n",
    "eye_events=parse_eye_line(refresh_sub,pathstring)\n",
    "#     mastereyedf.append(eyedf)\n",
    "eyedf=events_to_df(eye_events)\n",
    "eyearray=eventsdf_cleanup(eyedf)"
   ]
  },
  {
   "cell_type": "code",
   "execution_count": null,
   "metadata": {},
   "outputs": [],
   "source": [
    "behavestring='/Volumes/Voss_Lab/ECOG/ecog/locationspace/ecog.behave/'\n",
    "extra='recogarray.txt'\n",
    "behaveobj=[behavestring+sub+extra]\n",
    "behavepath=Path(behaveobj[0])\n",
    "behavepath.exists()"
   ]
  },
  {
   "cell_type": "code",
   "execution_count": null,
   "metadata": {
    "scrolled": true
   },
   "outputs": [],
   "source": [
    "behavearray=read_behave_file(behavepath)\n",
    "subdict_change_coords=change_behave_coords(subids)"
   ]
  },
  {
   "cell_type": "code",
   "execution_count": null,
   "metadata": {},
   "outputs": [],
   "source": [
    "#apply coordinate change to behavioral data if True in subdict\n",
    "if subdict_change_coords[sub]==True:\n",
    "    behavearray=apply_adjust_pres_coords(behavearray)\n",
    "    "
   ]
  },
  {
   "cell_type": "code",
   "execution_count": null,
   "metadata": {},
   "outputs": [],
   "source": [
    "subdict_change_coords"
   ]
  },
  {
   "cell_type": "code",
   "execution_count": null,
   "metadata": {},
   "outputs": [],
   "source": [
    "reftimesextra='refreshtimes.txt'\n",
    "reftimesobj=[behavestring+sub+reftimesextra]\n",
    "reftimespath=Path(reftimesobj[0])\n",
    "reftimespath.exists()\n",
    "\n",
    "reftimes=read_times_file(reftimespath)"
   ]
  },
  {
   "cell_type": "code",
   "execution_count": null,
   "metadata": {
    "scrolled": false
   },
   "outputs": [],
   "source": [
    "eyebehave=eye_behave_combo(eyearray,behavearray,reftimes)"
   ]
  },
  {
   "cell_type": "code",
   "execution_count": null,
   "metadata": {},
   "outputs": [],
   "source": [
    "#adjust timing to object onset\n",
    "eyebehave=remove_baseline_eye(eyebehave)"
   ]
  },
  {
   "cell_type": "code",
   "execution_count": null,
   "metadata": {},
   "outputs": [],
   "source": [
    "# calculate distances for start and end eye locations\n",
    "startdistarray=calculate_dist(eyebehave,x1='xstart',y1='ystart',name='start')\n",
    "enddistarray=calculate_dist(eyebehave,'xend','yend','end')"
   ]
  },
  {
   "cell_type": "code",
   "execution_count": null,
   "metadata": {},
   "outputs": [],
   "source": [
    "# start locations\n",
    "eyebehave=loc_view(eyebehave,startdistarray,'startloc')\n",
    "eyebehave=loc_view(eyebehave,enddistarray,'endloc')"
   ]
  },
  {
   "cell_type": "code",
   "execution_count": null,
   "metadata": {},
   "outputs": [],
   "source": [
    "#append start & end distances to eyebehave array\n",
    "eyebehave=pd.concat([eyebehave, startdistarray, enddistarray], axis=1)"
   ]
  },
  {
   "cell_type": "code",
   "execution_count": null,
   "metadata": {},
   "outputs": [],
   "source": [
    "eyebehavedict=eyebehave.to_dict('records')\n",
    "eyebehavedict=assign_screenview(eyebehavedict,'xstart','ystart','start')\n",
    "eyebehavedict=assign_screenview(eyebehavedict,'xend','yend','end')"
   ]
  },
  {
   "cell_type": "code",
   "execution_count": null,
   "metadata": {},
   "outputs": [],
   "source": [
    "new_previous_events=adjust_fix_before_blink(eyebehavedict)\n",
    "corrected_eye_events=adjust_event_after_blink(new_previous_events)\n",
    "subcleandf=eyedict_backto_df(corrected_eye_events)"
   ]
  },
  {
   "cell_type": "code",
   "execution_count": null,
   "metadata": {},
   "outputs": [],
   "source": [
    "l = [i +'hey' for i in etypes]\n",
    "l"
   ]
  },
  {
   "cell_type": "code",
   "execution_count": null,
   "metadata": {},
   "outputs": [],
   "source": [
    "type(events)\n",
    "events[1]"
   ]
  },
  {
   "cell_type": "code",
   "execution_count": null,
   "metadata": {},
   "outputs": [],
   "source": []
  },
  {
   "cell_type": "code",
   "execution_count": null,
   "metadata": {},
   "outputs": [],
   "source": [
    "from mypackage2.mymodule import a_function_i_wrote as f2"
   ]
  },
  {
   "cell_type": "code",
   "execution_count": null,
   "metadata": {},
   "outputs": [],
   "source": [
    "f1()"
   ]
  },
  {
   "cell_type": "code",
   "execution_count": null,
   "metadata": {},
   "outputs": [],
   "source": [
    "f2()"
   ]
  },
  {
   "cell_type": "code",
   "execution_count": null,
   "metadata": {},
   "outputs": [],
   "source": [
    "ls"
   ]
  },
  {
   "cell_type": "code",
   "execution_count": null,
   "metadata": {},
   "outputs": [],
   "source": [
    "cd mypackage2"
   ]
  },
  {
   "cell_type": "code",
   "execution_count": null,
   "metadata": {},
   "outputs": [],
   "source": [
    "ls"
   ]
  },
  {
   "cell_type": "code",
   "execution_count": 6,
   "metadata": {},
   "outputs": [],
   "source": [
    "%reload_ext autoreload\n",
    "%autoreload 2"
   ]
  },
  {
   "cell_type": "code",
   "execution_count": 18,
   "metadata": {},
   "outputs": [],
   "source": [
    "from eyepackage.runEyeBehaveAnalysis import run, set_behavior_path, set_times_path"
   ]
  },
  {
   "cell_type": "code",
   "execution_count": null,
   "metadata": {},
   "outputs": [],
   "source": []
  },
  {
   "cell_type": "code",
   "execution_count": 19,
   "metadata": {},
   "outputs": [
    {
     "data": {
      "text/plain": [
       "(PosixPath('/Volumes/Voss_Lab/ECOG/ecog/locationspace/ecog.behave/ec107recogarray.txt'),\n",
       " PosixPath('/Volumes/Voss_Lab/ECOG/ecog/locationspace/ecog.behave/ec107refreshtimes.txt'))"
      ]
     },
     "execution_count": 19,
     "metadata": {},
     "output_type": "execute_result"
    }
   ],
   "source": [
    "sub = 'ec107'\n",
    "behavestring='/Volumes/Voss_Lab/ECOG/ecog/locationspace/ecog.behave/'\n",
    "\n",
    "bpath = set_behavior_path(sub, behavestring)\n",
    "tpath = set_times_path(sub, behavestring)\n",
    "bpath, tpath"
   ]
  },
  {
   "cell_type": "code",
   "execution_count": 13,
   "metadata": {},
   "outputs": [],
   "source": [
    "def eye_behave_combo(eyearray,behavearray,timesarray):\n",
    "    eyebehave=eyearray.copy()\n",
    "\n",
    "    eyecols=eyebehave.columns.tolist()\n",
    "    behavecols=['loc1x','loc1y','loc2x','loc2y','loc3x','loc3y','recog loc','same/diff','cond']\n",
    "    allcols=eyecols+behavecols+['objonset','trialend']\n",
    "    eyebehave=eyebehave.reindex(columns=allcols)\n",
    "\n",
    "    for trial,col in enumerate(behavearray):\n",
    "        eyetrialevents=(eyebehave['trialnum']==trial+1)\n",
    "        eyetrial=eyebehave.loc[eyetrialevents]\n",
    "\n",
    "        behtrialevents=(behavearray['refresh order']==trial+1)\n",
    "        behtrial=behavearray.loc[behtrialevents]\n",
    "        for col in behavecols:\n",
    "            eyetrial.loc[eyetrialevents,col]=behtrial.iloc[0][col]\n",
    "\n",
    "        objonsetmask=timesarray.index==trial\n",
    "        onsettrial=timesarray.loc[objonsetmask]\n",
    "        eyetrial.loc[eyetrialevents,'objonset']=onsettrial.iloc[0]['objonset']\n",
    "        eyetrial.loc[eyetrialevents,'trialend']=onsettrial.iloc[0]['trialend']\n",
    "\n",
    "        eyebehave.loc[eyetrialevents]=eyetrial\n",
    "    return eyebehave\n",
    "\n",
    "\n"
   ]
  },
  {
   "cell_type": "code",
   "execution_count": null,
   "metadata": {},
   "outputs": [],
   "source": []
  }
 ],
 "metadata": {
  "kernelspec": {
   "display_name": "Python 3",
   "language": "python",
   "name": "python3"
  },
  "language_info": {
   "codemirror_mode": {
    "name": "ipython",
    "version": 3
   },
   "file_extension": ".py",
   "mimetype": "text/x-python",
   "name": "python",
   "nbconvert_exporter": "python",
   "pygments_lexer": "ipython3",
   "version": "3.6.5"
  }
 },
 "nbformat": 4,
 "nbformat_minor": 2
}
