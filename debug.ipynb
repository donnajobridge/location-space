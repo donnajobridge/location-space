{
 "cells": [
  {
   "cell_type": "code",
   "execution_count": null,
   "metadata": {},
   "outputs": [],
   "source": [
    "%reload_ext autoreload\n",
    "%autoreload 2"
   ]
  },
  {
   "cell_type": "code",
   "execution_count": null,
   "metadata": {},
   "outputs": [],
   "source": [
    "import eyepackage.runEyeBehaveAnalysis as reba"
   ]
  },
  {
   "cell_type": "code",
   "execution_count": null,
   "metadata": {},
   "outputs": [],
   "source": []
  },
  {
   "cell_type": "code",
   "execution_count": 1,
   "metadata": {},
   "outputs": [
    {
     "name": "stdout",
     "output_type": "stream",
     "text": [
      "eyepackage importing!\n"
     ]
    }
   ],
   "source": [
    "from eyepackage.runEyeBehaveAnalysis import run_all"
   ]
  },
  {
   "cell_type": "code",
   "execution_count": 2,
   "metadata": {},
   "outputs": [
    {
     "name": "stdout",
     "output_type": "stream",
     "text": [
      "['ec105', 'ec106', 'ec107', 'ec108']\n",
      "    block        fname phase subject\n",
      "2       1  ec1051a.asc     a   ec105\n",
      "3       2  ec1052a.asc     a   ec105\n",
      "20      3  ec1053a.asc     a   ec105\n",
      "16      4  ec1054a.asc     a   ec105\n",
      "15      5  ec1055a.asc     a   ec105\n",
      "running ec105 using presentation False\n",
      "ec105\n",
      "len(behavearray) 128\n",
      "running /Volumes/Voss_Lab/ECOG/ecog/locationspace/ecog.behave/ec105refreshtimes.txt\n",
      "         tmp1      tmp2  objonset      tmp3  tmp4\n",
      "0    218.2855  1049.262  2062.156  7096.780   NaN\n",
      "1  12666.6300  1017.756  2033.615  7069.278   NaN\n",
      "2  20821.8300  1030.147  2047.213  7081.834   NaN\n",
      "3  28603.9400  1016.998  2033.786  7071.241   NaN\n",
      "4  36654.9700  1017.888  2034.822  7072.197   NaN\n",
      "len(timesarray) 128\n"
     ]
    },
    {
     "name": "stderr",
     "output_type": "stream",
     "text": [
      "/Users/drdj/.pyenv/versions/3.6.5/lib/python3.6/site-packages/pandas/core/indexing.py:537: SettingWithCopyWarning: \n",
      "A value is trying to be set on a copy of a slice from a DataFrame.\n",
      "Try using .loc[row_indexer,col_indexer] = value instead\n",
      "\n",
      "See the caveats in the documentation: http://pandas.pydata.org/pandas-docs/stable/indexing.html#indexing-view-versus-copy\n",
      "  self.obj[item] = s\n"
     ]
    },
    {
     "name": "stdout",
     "output_type": "stream",
     "text": [
      "ec105 is done!\n",
      "running ec106 using presentation False\n",
      "ec106\n",
      "len(behavearray) 128\n",
      "running /Volumes/Voss_Lab/ECOG/ecog/locationspace/ecog.behave/ec106refreshtimes.txt\n",
      "         tmp1      tmp2  objonset      tmp3  tmp4\n",
      "0    202.5845  1048.369  2061.376  7096.179   NaN\n",
      "1  12647.6200  1019.501  2036.385  7071.166   NaN\n",
      "2  20066.7600  1019.163  2035.919  7070.782   NaN\n",
      "3  28206.7800  1015.495  2031.605  7071.457   NaN\n",
      "4  35875.2200  1031.780  2048.904  7083.454   NaN\n",
      "len(timesarray) 128\n",
      "ec106 is done!\n",
      "running ec107 using presentation True\n",
      "ec107\n",
      "len(behavearray) 128\n",
      "   global trial start  objonset  trialend\n",
      "0              261316      2035      9405\n",
      "1              270820      2033      8270\n",
      "2              279192      2030      8233\n",
      "3              287525      2032      8336\n",
      "4              295962      2031      8168\n",
      "len(timesarray) 128\n",
      "ec107 is done!\n",
      "running ec108 using presentation True\n",
      "ec108\n",
      "len(behavearray) 128\n",
      "   global trial start  objonset  trialend\n",
      "0              280547      2033      8703\n",
      "1              289349      2033      8503\n",
      "2              297955      2030      9268\n",
      "3              307325      2029      8398\n",
      "4              315823      2034      8372\n",
      "len(timesarray) 128\n",
      "ec108 is done!\n"
     ]
    }
   ],
   "source": [
    "run_all()"
   ]
  },
  {
   "cell_type": "code",
   "execution_count": null,
   "metadata": {},
   "outputs": [],
   "source": [
    "sub = 'ec105'\n",
    "behavestring='/Volumes/Voss_Lab/ECOG/ecog/locationspace/ecog.behave/'\n",
    "pathstring='/Volumes/Voss_Lab/ECOG/ecog/locationspace/ecog.eye/'\n",
    "\n"
   ]
  },
  {
   "cell_type": "code",
   "execution_count": null,
   "metadata": {},
   "outputs": [],
   "source": [
    "refresh_all = get_refresh_all(subids=[sub], pathstring=pathstring)"
   ]
  },
  {
   "cell_type": "code",
   "execution_count": null,
   "metadata": {},
   "outputs": [],
   "source": [
    "is_pres = False\n",
    "eyearray,behavearray,timesarray = load_data_for_subject(sub, \n",
    "                                                        refresh_all, \n",
    "                                                        pathstring, \n",
    "                                                        behavestring, \n",
    "                                                        is_pres=is_pres)"
   ]
  },
  {
   "cell_type": "code",
   "execution_count": null,
   "metadata": {},
   "outputs": [],
   "source": [
    "eyearray.shape, behavearray.shape, timesarray.shape"
   ]
  },
  {
   "cell_type": "code",
   "execution_count": null,
   "metadata": {},
   "outputs": [],
   "source": [
    "timesarray.head()"
   ]
  },
  {
   "cell_type": "code",
   "execution_count": null,
   "metadata": {},
   "outputs": [],
   "source": [
    "eyebehave=eyearray.copy()\n",
    "\n",
    "eyecols=eyebehave.columns.tolist()\n",
    "behavecols=['loc1x','loc1y','loc2x','loc2y','loc3x','loc3y','recog loc','same/diff','cond']\n",
    "allcols=eyecols+behavecols+['objonset','trialend']\n",
    "eyebehave.head()"
   ]
  },
  {
   "cell_type": "code",
   "execution_count": null,
   "metadata": {},
   "outputs": [],
   "source": [
    "eyebehave=eyebehave.reindex(columns=allcols)\n",
    "eyebehave.head()"
   ]
  },
  {
   "cell_type": "code",
   "execution_count": null,
   "metadata": {},
   "outputs": [],
   "source": [
    " for trial,col in enumerate(behavearray):\n",
    "        print('trial', trial)\n",
    "        eyetrialevents=(eyebehave['trialnum']==trial+1)\n",
    "        eyetrial=eyebehave.loc[eyetrialevents]\n",
    "\n",
    "        behtrialevents=(behavearray['refresh order']==trial+1)\n",
    "        behtrial=behavearray.loc[behtrialevents]\n",
    "        for col in behavecols:\n",
    "            eyetrial.loc[eyetrialevents,col]=behtrial.iloc[0][col]\n",
    "\n",
    "        objonsetmask=timesarray.index==trial\n",
    "        onsettrial=timesarray.loc[objonsetmask]\n",
    "        break"
   ]
  },
  {
   "cell_type": "code",
   "execution_count": null,
   "metadata": {},
   "outputs": [],
   "source": [
    "#         eyetrial.loc[eyetrialevents,'objonset']=onsettrial.iloc[0]['objonset']\n",
    "#         eyetrial.loc[eyetrialevents,'trialend']=onsettrial.iloc[0]['trialend']\n",
    "\n",
    "#         eyebehave.loc[eyetrialevents]=eyetrial"
   ]
  },
  {
   "cell_type": "code",
   "execution_count": null,
   "metadata": {},
   "outputs": [],
   "source": [
    "def eye_behave_combo(eyearray,behavearray,timesarray):\n",
    "    eyebehave=eyearray.copy()\n",
    "\n",
    "    eyecols=eyebehave.columns.tolist()\n",
    "    behavecols=['loc1x','loc1y','loc2x','loc2y','loc3x','loc3y','recog loc','same/diff','cond']\n",
    "    allcols=eyecols+behavecols+['objonset','trialend']\n",
    "    eyebehave=eyebehave.reindex(columns=allcols)\n",
    "\n",
    "    for trial,col in enumerate(behavearray):\n",
    "        eyetrialevents=(eyebehave['trialnum']==trial+1)\n",
    "        eyetrial=eyebehave.loc[eyetrialevents]\n",
    "\n",
    "        behtrialevents=(behavearray['refresh order']==trial+1)\n",
    "        behtrial=behavearray.loc[behtrialevents]\n",
    "        for col in behavecols:\n",
    "            eyetrial.loc[eyetrialevents,col]=behtrial.iloc[0][col]\n",
    "\n",
    "        objonsetmask=timesarray.index==trial\n",
    "        onsettrial=timesarray.loc[objonsetmask]\n",
    "        eyetrial.loc[eyetrialevents,'objonset']=onsettrial.iloc[0]['objonset']\n",
    "        eyetrial.loc[eyetrialevents,'trialend']=onsettrial.iloc[0]['trialend']\n",
    "\n",
    "        eyebehave.loc[eyetrialevents]=eyetrial\n",
    "    return eyebehave\n",
    "\n",
    "\n"
   ]
  },
  {
   "cell_type": "code",
   "execution_count": null,
   "metadata": {},
   "outputs": [],
   "source": []
  },
  {
   "cell_type": "code",
   "execution_count": null,
   "metadata": {},
   "outputs": [],
   "source": [
    "eyebehave=eye_behave_combo(eyearray,behavearray,timesarray)"
   ]
  },
  {
   "cell_type": "code",
   "execution_count": null,
   "metadata": {
    "scrolled": true
   },
   "outputs": [],
   "source": [
    "eyebehave"
   ]
  },
  {
   "cell_type": "code",
   "execution_count": null,
   "metadata": {},
   "outputs": [],
   "source": []
  }
 ],
 "metadata": {
  "kernelspec": {
   "display_name": "Python 3",
   "language": "python",
   "name": "python3"
  },
  "language_info": {
   "codemirror_mode": {
    "name": "ipython",
    "version": 3
   },
   "file_extension": ".py",
   "mimetype": "text/x-python",
   "name": "python",
   "nbconvert_exporter": "python",
   "pygments_lexer": "ipython3",
   "version": "3.6.5"
  }
 },
 "nbformat": 4,
 "nbformat_minor": 2
}
