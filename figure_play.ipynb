{
 "cells": [
  {
   "cell_type": "code",
   "execution_count": null,
   "metadata": {},
   "outputs": [],
   "source": [
    "import pathlib\n",
    "import pandas as pd\n",
    "import numpy as np\n",
    "import seaborn as sns\n",
    "import matplotlib.pyplot as plt"
   ]
  },
  {
   "cell_type": "code",
   "execution_count": null,
   "metadata": {},
   "outputs": [],
   "source": [
    "gammas = sns.load_dataset(\"gammas\")\n",
    "gammas"
   ]
  },
  {
   "cell_type": "code",
   "execution_count": null,
   "metadata": {
    "scrolled": true
   },
   "outputs": [],
   "source": [
    "subids=['ec105', 'ec106', 'ec107', 'ec108']\n",
    "\n",
    "masterdf=pd.DataFrame()\n",
    "for sub in subids:\n",
    "    fname='./analysis/' + sub + 'eyebehave.csv'\n",
    "    subfile=pd.read_csv(fname, index_col=[0])\n",
    "    subdf=pd.DataFrame(subfile)\n",
    "    masterdf=masterdf.append(subdf)\n",
    "masterdf.reset_index(drop=True)"
   ]
  },
  {
   "cell_type": "code",
   "execution_count": null,
   "metadata": {},
   "outputs": [],
   "source": [
    "cond=1\n",
    "name='end'\n",
    "event='ESACC'\n",
    "\n",
    "locs=['loc1', 'loc2', 'loc3']\n",
    "blocks=[1]\n",
    "trials=[1]\n",
    "# def plot_individual_trials_distances(sub, cond, col, event):\n",
    "locs=[loc+name for loc in locs]\n",
    "\n",
    "subids=['ec105']\n",
    "for sub in subids:\n",
    "    for block in blocks:\n",
    "        for trial in trials:\n",
    "            initial_group=masterdf.groupby(['sub', 'event', 'block', \n",
    "                                            'trialnum']).get_group((sub, event, block, trial))\n",
    "            times=initial_group['start']\n",
    "            distances=initial_group[locs]\n",
    "\n",
    "            one_loc=pd.DataFrame()\n",
    "            all_locs=pd.DataFrame()\n",
    "            for loc in locs:\n",
    "                tmp=distances[loc]\n",
    "                tmp.name='distance'\n",
    "                one_loc=pd.concat([times, tmp], axis=1)\n",
    "                one_loc['loc']=loc\n",
    "                all_locs=pd.concat([all_locs,one_loc])\n",
    "            all_locs=all_locs.reset_index(drop=True)\n",
    "            all_locs['subject']=sub\n",
    "            if len(all_locs)>len(locs):\n",
    "                ax = sns.tsplot(time=\"start\", value=\"distance\", unit='subject', condition=\"loc\", data=all_locs)"
   ]
  },
  {
   "cell_type": "code",
   "execution_count": null,
   "metadata": {},
   "outputs": [],
   "source": [
    "new=pd.concat([times,distances],axis=1)\n",
    "new['subject']='ec105'\n",
    "new=new.set_index('start')\n",
    "new"
   ]
  },
  {
   "cell_type": "code",
   "execution_count": null,
   "metadata": {
    "scrolled": false
   },
   "outputs": [],
   "source": [
    "# n = new.reset_index()\n",
    "# ax = sns.tsplot(time='timepoint', value='BOLD signal',  data=gammas)\n",
    "ax = sns.tsplot(time=\"timepoint\", value=\"BOLD signal\",\n",
    "                  condition=\"ROI\",\n",
    "                 data=gammas)"
   ]
  },
  {
   "cell_type": "code",
   "execution_count": null,
   "metadata": {},
   "outputs": [],
   "source": [
    "l = []\n",
    "for loc, ldf in all_locs.groupby('loc'):\n",
    "#     print(loc)\n",
    "#     print(ldf.head())\n",
    "    ldf = ldf.set_index('start')\n",
    "    ldf = ldf['distance']\n",
    "    ldf.name = loc\n",
    "    l.append(ldf)\n",
    "    \n",
    "df2 = pd.DataFrame(l).T\n",
    "df2"
   ]
  },
  {
   "cell_type": "code",
   "execution_count": null,
   "metadata": {},
   "outputs": [],
   "source": [
    "fig, ax = plt.subplots()\n",
    "\n",
    "for loc, locdf in all_locs.groupby('loc'):\n",
    "    locdf.plot(ax=ax)\n",
    "plt.show()\n",
    "    "
   ]
  },
  {
   "cell_type": "code",
   "execution_count": null,
   "metadata": {},
   "outputs": [],
   "source": [
    "x=all_locs['start'].values\n",
    "y=all_locs['distance'].values\n",
    "\n",
    "fig, ax = plt.subplots()\n",
    "ax.plot(x, y '.')\n",
    "plt.show()"
   ]
  },
  {
   "cell_type": "code",
   "execution_count": null,
   "metadata": {},
   "outputs": [],
   "source": [
    "# all_locs.plot()\n",
    "# one_loc.plot()\n",
    "# ax = sns.tsplot(time=\"start\", value=\"distance\", condition=\"loc\", data=one_loc)\n",
    "\n",
    "fig, ax \n"
   ]
  },
  {
   "cell_type": "code",
   "execution_count": null,
   "metadata": {},
   "outputs": [],
   "source": [
    "loc1end_saccades=masterdf[masterdf['endloc']=='loc1end']\n",
    "loc1end_saccades_mismatch=loc1end_saccades[loc1end_saccades['cond']==1.0]\n",
    "loc1end_saccades_times_mismatch=loc1end_saccades_mismatch['start']\n",
    "sns.set()\n",
    "ax = sns.distplot(loc1end_saccades_times_mismatch)"
   ]
  },
  {
   "cell_type": "code",
   "execution_count": null,
   "metadata": {},
   "outputs": [],
   "source": [
    "loc2end_saccades=masterdf[masterdf['endloc']=='loc2end']\n",
    "loc2end_saccades_mismatch=loc2end_saccades[loc2end_saccades['cond']==1.0]\n",
    "loc2end_saccades_times_mismatch=loc2end_saccades_mismatch['start']\n",
    "sns.set()\n",
    "ax = sns.distplot(loc2end_saccades_times_mismatch)"
   ]
  },
  {
   "cell_type": "code",
   "execution_count": null,
   "metadata": {},
   "outputs": [],
   "source": [
    "loc1end_saccades_match=loc1end_saccades[loc1end_saccades['cond']==2.0]\n",
    "loc1end_saccades_times_match=loc1end_saccades_match['start']\n",
    "loc1end_saccades_distances_match=loc1end_saccades_match['loc1end']\n",
    "sns.set()\n",
    "ax = sns.distplot(loc1end_saccades_times_match)"
   ]
  },
  {
   "cell_type": "code",
   "execution_count": null,
   "metadata": {},
   "outputs": [],
   "source": []
  }
 ],
 "metadata": {
  "kernelspec": {
   "display_name": "Python 3",
   "language": "python",
   "name": "python3"
  },
  "language_info": {
   "codemirror_mode": {
    "name": "ipython",
    "version": 3
   },
   "file_extension": ".py",
   "mimetype": "text/x-python",
   "name": "python",
   "nbconvert_exporter": "python",
   "pygments_lexer": "ipython3",
   "version": "3.6.5"
  }
 },
 "nbformat": 4,
 "nbformat_minor": 2
}
