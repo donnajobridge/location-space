{
 "cells": [
  {
   "cell_type": "code",
   "execution_count": 4,
   "metadata": {},
   "outputs": [
    {
     "name": "stdout",
     "output_type": "stream",
     "text": [
      "The autoreload extension is already loaded. To reload it, use:\n",
      "  %reload_ext autoreload\n"
     ]
    }
   ],
   "source": [
    "from eyepackage.runEyeBehaveAnalysis import *\n",
    "%load_ext autoreload\n",
    "%autoreload 2"
   ]
  },
  {
   "cell_type": "code",
   "execution_count": null,
   "metadata": {},
   "outputs": [
    {
     "name": "stdout",
     "output_type": "stream",
     "text": [
      "['ec105', 'ec106', 'ec107', 'ec108']\n",
      "    block        fname phase_letter subject\n",
      "2       1  ec1051a.asc            a   ec105\n",
      "3       2  ec1052a.asc            a   ec105\n",
      "20      3  ec1053a.asc            a   ec105\n",
      "16      4  ec1054a.asc            a   ec105\n",
      "15      5  ec1055a.asc            a   ec105\n",
      "   subject phase_letter  block         fname\n",
      "0    ec105            a      1   ec1051a.asc\n",
      "1    ec105            a      2   ec1052a.asc\n",
      "2    ec105            a      3   ec1053a.asc\n",
      "3    ec105            a      4   ec1054a.asc\n",
      "4    ec105            a      5   ec1055a.asc\n",
      "5    ec105            a      6   ec1056a.asc\n",
      "6    ec105            a      7   ec1057a.asc\n",
      "7    ec105            a      8   ec1058a.asc\n",
      "24   ec106            a      1   ec1061a.asc\n",
      "25   ec106            a      2   ec1062a.asc\n",
      "26   ec106            a      3   ec1063a.asc\n",
      "27   ec106            a      4   ec1064a.asc\n",
      "28   ec106            a      5   ec1065a.asc\n",
      "29   ec106            a      6   ec1066a.asc\n",
      "30   ec106            a      7   ec1067a.asc\n",
      "31   ec106            a      8   ec1068a.asc\n",
      "48   ec107            a      1  ec107a1r.asc\n",
      "49   ec107            a      2  ec107a2r.asc\n",
      "50   ec107            a      3  ec107a3r.asc\n",
      "51   ec107            a      4  ec107a4r.asc\n",
      "52   ec107            a      5  ec107a5r.asc\n",
      "53   ec107            a      6  ec107a6r.asc\n",
      "54   ec107            a      7  ec107a7r.asc\n",
      "55   ec107            a      8  ec107a8r.asc\n",
      "72   ec108            a      1  ec108ar1.asc\n",
      "73   ec108            a      2  ec108ar2.asc\n",
      "74   ec108            a      3  ec108ar3.asc\n",
      "75   ec108            a      4  ec108ar4.asc\n",
      "76   ec108            a      5  ec108ar5.asc\n",
      "77   ec108            a      6  ec108ar6.asc\n",
      "78   ec108            a      7  ec108ar7.asc\n",
      "79   ec108            a      8  ec108ar8.asc\n",
      "running ec105 using presentation False\n",
      "ec105\n",
      "/Volumes/Voss_Lab/ECOG/ecog/locationspace/ecog.eye/\n",
      "16 1 17\n",
      "32 2 17\n",
      "48 3 17\n",
      "64 4 17\n",
      "80 5 17\n",
      "96 6 17\n",
      "112 7 17\n",
      "128 8 17\n",
      "len(behavearray) 128\n",
      "running /Volumes/Voss_Lab/ECOG/ecog/locationspace/ecog.behave/ec105studytimes.txt\n",
      "        tmp1      tmp2      tmp3      tmp4      tmp5      tmp6  objonset  \\\n",
      "0   5215.787  88.66930  344.8062  610.9641  877.8108  1144.525  3161.695   \n",
      "1  11427.970  80.94891  335.8372  600.3644  867.1042  1133.755  3151.017   \n",
      "2  17613.140  80.64526  335.6712  600.1966  866.7849  1133.574  3150.667   \n",
      "3  23798.070  80.14060  335.0760  600.0947  866.9403  1133.520  3150.886   \n",
      "4  29982.820  79.54321  334.5554  600.2886  867.1544  1133.721  3151.032   \n",
      "\n",
      "       tmp7  \n",
      "0  6186.804  \n",
      "1  6175.692  \n",
      "2  6173.505  \n",
      "3  6175.361  \n",
      "4  6173.958  \n",
      "[False False False False False False  True False]\n",
      "len(timesarray) 128\n"
     ]
    },
    {
     "name": "stderr",
     "output_type": "stream",
     "text": [
      "/Users/drdj/.pyenv/versions/3.6.5/lib/python3.6/site-packages/pandas/core/indexing.py:537: SettingWithCopyWarning: \n",
      "A value is trying to be set on a copy of a slice from a DataFrame.\n",
      "Try using .loc[row_indexer,col_indexer] = value instead\n",
      "\n",
      "See the caveats in the documentation: http://pandas.pydata.org/pandas-docs/stable/indexing.html#indexing-view-versus-copy\n",
      "  self.obj[item] = s\n"
     ]
    }
   ],
   "source": [
    "run_all()"
   ]
  },
  {
   "cell_type": "code",
   "execution_count": null,
   "metadata": {},
   "outputs": [],
   "source": []
  }
 ],
 "metadata": {
  "kernelspec": {
   "display_name": "Python 3",
   "language": "python",
   "name": "python3"
  },
  "language_info": {
   "codemirror_mode": {
    "name": "ipython",
    "version": 3
   },
   "file_extension": ".py",
   "mimetype": "text/x-python",
   "name": "python",
   "nbconvert_exporter": "python",
   "pygments_lexer": "ipython3",
   "version": "3.6.5"
  }
 },
 "nbformat": 4,
 "nbformat_minor": 2
}
