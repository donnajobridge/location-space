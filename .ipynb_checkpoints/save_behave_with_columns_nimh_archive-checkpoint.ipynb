{
 "cells": [
  {
   "cell_type": "code",
   "execution_count": 1,
   "metadata": {},
   "outputs": [
    {
     "name": "stdout",
     "output_type": "stream",
     "text": [
      "eyepackage importing!\n"
     ]
    }
   ],
   "source": [
    "from pathlib import *\n",
    "import numpy as np\n",
    "import pandas as pd\n",
    "from eyepackage.eye_parse import *\n",
    "from eyepackage.behave_parse import *\n",
    "from eyepackage.behave_eye_converge import *"
   ]
  },
  {
   "cell_type": "code",
   "execution_count": 8,
   "metadata": {},
   "outputs": [],
   "source": [
    "subids=[\"ec107\",\"ec108\"]    \n",
    "for sub in subids:\n",
    "    pathstring=f'/Volumes/Voss_Lab/ECOG/ecog/locationspace/ecog.behave/{sub}recogarray.txt'\n",
    "    behavepath=Path(pathstring)\n",
    "    newpath=f'{sub}behave.txt'\n",
    "#     newpath=Path(newpathstring)\n",
    "    \n",
    "    colnames=['loc1x','loc1y','tmpx','tmpy','tmpdist','tmpmaxdist','tmpdistused','block','angle','loc3x','loc3y','loc2x','loc2y',\n",
    "             'loc1-loc2dist','loc1-loc3dist','loc2-loc3dist','picid','contextid','cond',\n",
    "             'study order','refresh order','recog order','same/diff','same/diff rt',\n",
    "              'recog button', 'recog loc','recog rt','tmp']\n",
    "    behavearray=pd.read_table(behavepath,header=None,names=colnames)\n",
    "    tmpmask=~behavearray.columns.str.contains('tmp')\n",
    "    behavearray=behavearray[behavearray.columns[tmpmask]]\n",
    "    behavearray.to_csv(newpath, sep='\\t', index=False)\n",
    "    "
   ]
  },
  {
   "cell_type": "code",
   "execution_count": null,
   "metadata": {},
   "outputs": [],
   "source": []
  }
 ],
 "metadata": {
  "kernelspec": {
   "display_name": "Python 3",
   "language": "python",
   "name": "python3"
  },
  "language_info": {
   "codemirror_mode": {
    "name": "ipython",
    "version": 3
   },
   "file_extension": ".py",
   "mimetype": "text/x-python",
   "name": "python",
   "nbconvert_exporter": "python",
   "pygments_lexer": "ipython3",
   "version": "3.6.5"
  }
 },
 "nbformat": 4,
 "nbformat_minor": 2
}
