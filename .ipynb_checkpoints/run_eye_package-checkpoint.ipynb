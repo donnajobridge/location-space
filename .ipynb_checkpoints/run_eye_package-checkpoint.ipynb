{
 "cells": [
  {
   "cell_type": "code",
   "execution_count": 1,
   "metadata": {},
   "outputs": [
    {
     "name": "stdout",
     "output_type": "stream",
     "text": [
      "eyepackage importing!\n"
     ]
    }
   ],
   "source": [
    "from eyepackage.runEyeBehaveAnalysis import *\n",
    "%load_ext autoreload\n",
    "%autoreload 2"
   ]
  },
  {
   "cell_type": "code",
   "execution_count": 2,
   "metadata": {},
   "outputs": [
    {
     "name": "stdout",
     "output_type": "stream",
     "text": [
      "['ec109']\n",
      "    block         fname phase_letter subject\n",
      "11      1  ec109ar1.asc            a   ec109\n",
      "12      2  ec109ar2.asc            a   ec109\n",
      "6       3  ec109ar3.asc            a   ec109\n",
      "13      4  ec109ar4.asc            a   ec109\n",
      "8       5  ec109ar5.asc            a   ec109\n",
      "  subject phase_letter  block         fname\n",
      "0   ec109            a      1  ec109ar1.asc\n",
      "1   ec109            a      2  ec109ar2.asc\n",
      "2   ec109            a      3  ec109ar3.asc\n",
      "3   ec109            a      4  ec109ar4.asc\n",
      "4   ec109            a      5  ec109ar5.asc\n",
      "5   ec109            a      6  ec109ar6.asc\n",
      "6   ec109            a      7  ec109ar7.asc\n",
      "7   ec109            a      8  ec109ar8.asc\n",
      "running ec109 using presentation True\n",
      "ec109\n",
      "/Volumes/Voss_Lab/ECOG/ecog/locationspace/ecog.eye/\n",
      "16 1 17\n",
      "32 2 17\n",
      "48 3 17\n",
      "64 4 17\n",
      "80 5 17\n",
      "96 6 17\n",
      "112 7 17\n",
      "128 8 17\n",
      "len(behavearray) 128\n",
      "   global trial start  objonset  trialend\n",
      "0              116104      3079      6119\n",
      "1              122326      3076      6116\n",
      "2              128545      3075      6115\n",
      "3              134764      3075      6114\n",
      "4              140977      3080      6120\n",
      "len(timesarray) 128\n"
     ]
    },
    {
     "name": "stderr",
     "output_type": "stream",
     "text": [
      "/Library/Frameworks/Python.framework/Versions/3.6/lib/python3.6/site-packages/pandas/core/indexing.py:537: SettingWithCopyWarning: \n",
      "A value is trying to be set on a copy of a slice from a DataFrame.\n",
      "Try using .loc[row_indexer,col_indexer] = value instead\n",
      "\n",
      "See the caveats in the documentation: http://pandas.pydata.org/pandas-docs/stable/indexing.html#indexing-view-versus-copy\n",
      "  self.obj[item] = s\n"
     ]
    },
    {
     "name": "stdout",
     "output_type": "stream",
     "text": [
      "ec109 is done!\n",
      "['ec109']\n",
      "    block         fname phase_letter subject\n",
      "11      1  ec109ar1.asc            a   ec109\n",
      "12      2  ec109ar2.asc            a   ec109\n",
      "6       3  ec109ar3.asc            a   ec109\n",
      "13      4  ec109ar4.asc            a   ec109\n",
      "8       5  ec109ar5.asc            a   ec109\n",
      "   subject phase_letter  block         fname\n",
      "8    ec109            b      1  ec109br1.asc\n",
      "9    ec109            b      2  ec109br2.asc\n",
      "10   ec109            b      3  ec109br3.asc\n",
      "11   ec109            b      4  ec109br4.asc\n",
      "12   ec109            b      5  ec109br5.asc\n",
      "13   ec109            b      6  ec109br6.asc\n",
      "14   ec109            b      7  ec109br7.asc\n",
      "15   ec109            b      8  ec109br8.asc\n",
      "running ec109 using presentation True\n",
      "ec109\n",
      "/Volumes/Voss_Lab/ECOG/ecog/locationspace/ecog.eye/\n",
      "16 1 16\n",
      "32 2 16\n",
      "48 3 16\n",
      "64 4 16\n",
      "80 5 16\n",
      "96 6 16\n",
      "112 7 16\n",
      "128 8 16\n",
      "len(behavearray) 128\n",
      "   global trial start  objonset  trialend\n",
      "0              356870      2033     12338\n",
      "1              369309      2031     10269\n",
      "2              379678      2032      9369\n",
      "3              389151      2028      9432\n",
      "4              398683      2032      8836\n",
      "len(timesarray) 128\n",
      "ec109 is done!\n",
      "['ec109']\n",
      "    block         fname phase_letter subject\n",
      "11      1  ec109ar1.asc            a   ec109\n",
      "12      2  ec109ar2.asc            a   ec109\n",
      "6       3  ec109ar3.asc            a   ec109\n",
      "13      4  ec109ar4.asc            a   ec109\n",
      "8       5  ec109ar5.asc            a   ec109\n",
      "   subject phase_letter  block         fname\n",
      "16   ec109            c      1  ec109cr1.asc\n",
      "17   ec109            c      2  ec109cr2.asc\n",
      "18   ec109            c      3  ec109cr3.asc\n",
      "19   ec109            c      4  ec109cr4.asc\n",
      "20   ec109            c      5  ec109cr5.asc\n",
      "21   ec109            c      6  ec109cr6.asc\n",
      "22   ec109            c      7  ec109cr7.asc\n",
      "23   ec109            c      8  ec109cr8.asc\n",
      "running ec109 using presentation True\n",
      "ec109\n",
      "/Volumes/Voss_Lab/ECOG/ecog/locationspace/ecog.eye/\n",
      "16 1 16\n",
      "32 2 16\n",
      "48 3 16\n",
      "64 4 16\n",
      "80 5 16\n",
      "96 6 16\n",
      "112 7 16\n",
      "128 8 16\n",
      "len(behavearray) 128\n",
      "   global trial start  objonset  trialend\n",
      "0              619358      2021      8808\n",
      "1              628267      2031      8901\n",
      "2              637266      2018      8372\n",
      "3              645738      2032      8869\n",
      "4              654704      2035      7805\n",
      "len(timesarray) 128\n",
      "ec109 is done!\n"
     ]
    }
   ],
   "source": [
    "run_all()"
   ]
  },
  {
   "cell_type": "code",
   "execution_count": null,
   "metadata": {},
   "outputs": [],
   "source": []
  }
 ],
 "metadata": {
  "kernelspec": {
   "display_name": "Python 3",
   "language": "python",
   "name": "python3"
  },
  "language_info": {
   "codemirror_mode": {
    "name": "ipython",
    "version": 3
   },
   "file_extension": ".py",
   "mimetype": "text/x-python",
   "name": "python",
   "nbconvert_exporter": "python",
   "pygments_lexer": "ipython3",
   "version": "3.6.5"
  }
 },
 "nbformat": 4,
 "nbformat_minor": 2
}
