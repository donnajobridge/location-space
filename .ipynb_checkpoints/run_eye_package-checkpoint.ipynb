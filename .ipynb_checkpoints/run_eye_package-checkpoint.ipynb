{
 "cells": [
  {
   "cell_type": "code",
   "execution_count": 17,
   "metadata": {},
   "outputs": [
    {
     "name": "stdout",
     "output_type": "stream",
     "text": [
      "The autoreload extension is already loaded. To reload it, use:\n",
      "  %reload_ext autoreload\n"
     ]
    }
   ],
   "source": [
    "from eyepackage.runEyeBehaveAnalysis import *\n",
    "%load_ext autoreload\n",
    "%autoreload 2"
   ]
  },
  {
   "cell_type": "code",
   "execution_count": 18,
   "metadata": {},
   "outputs": [
    {
     "name": "stdout",
     "output_type": "stream",
     "text": [
      "['ec108']\n",
      "    block         fname phase_letter subject\n",
      "19      1  ec108ar1.asc            a   ec108\n",
      "22      2  ec108ar2.asc            a   ec108\n",
      "16      3  ec108ar3.asc            a   ec108\n",
      "23      4  ec108ar4.asc            a   ec108\n",
      "1       5  ec108ar5.asc            a   ec108\n",
      "  subject phase_letter  block         fname\n",
      "0   ec108            a      1  ec108ar1.asc\n",
      "1   ec108            a      2  ec108ar2.asc\n",
      "2   ec108            a      3  ec108ar3.asc\n",
      "3   ec108            a      4  ec108ar4.asc\n",
      "4   ec108            a      5  ec108ar5.asc\n",
      "5   ec108            a      6  ec108ar6.asc\n",
      "6   ec108            a      7  ec108ar7.asc\n",
      "7   ec108            a      8  ec108ar8.asc\n",
      "running ec108 using presentation True\n",
      "ec108\n",
      "/Volumes/Voss_Lab/ECOG/ecog/locationspace/ecog.eye/\n",
      "16 1 17\n",
      "32 2 17\n",
      "48 3 17\n",
      "64 4 17\n",
      "80 5 17\n"
     ]
    },
    {
     "ename": "KeyboardInterrupt",
     "evalue": "",
     "output_type": "error",
     "traceback": [
      "\u001b[0;31m---------------------------------------------------------------------------\u001b[0m",
      "\u001b[0;31mKeyboardInterrupt\u001b[0m                         Traceback (most recent call last)",
      "\u001b[0;32m<ipython-input-18-22cc3395ec99>\u001b[0m in \u001b[0;36m<module>\u001b[0;34m()\u001b[0m\n\u001b[0;32m----> 1\u001b[0;31m \u001b[0mrun_all\u001b[0m\u001b[0;34m(\u001b[0m\u001b[0;34m)\u001b[0m\u001b[0;34m\u001b[0m\u001b[0m\n\u001b[0m",
      "\u001b[0;32m~/Box Sync/data_visualizations/locationspace/eyepackage/runEyeBehaveAnalysis.py\u001b[0m in \u001b[0;36mrun_all\u001b[0;34m()\u001b[0m\n\u001b[1;32m    108\u001b[0m             \u001b[0mis_pres\u001b[0m \u001b[0;34m=\u001b[0m \u001b[0;34m(\u001b[0m\u001b[0msub\u001b[0m \u001b[0;32mnot\u001b[0m \u001b[0;32min\u001b[0m \u001b[0mmatlab_subs\u001b[0m\u001b[0;34m)\u001b[0m\u001b[0;34m\u001b[0m\u001b[0m\n\u001b[1;32m    109\u001b[0m             \u001b[0mprint\u001b[0m\u001b[0;34m(\u001b[0m\u001b[0;34m'running'\u001b[0m\u001b[0;34m,\u001b[0m \u001b[0msub\u001b[0m\u001b[0;34m,\u001b[0m \u001b[0;34m'using presentation'\u001b[0m\u001b[0;34m,\u001b[0m \u001b[0mis_pres\u001b[0m\u001b[0;34m)\u001b[0m\u001b[0;34m\u001b[0m\u001b[0m\n\u001b[0;32m--> 110\u001b[0;31m             \u001b[0moutput\u001b[0m\u001b[0;34m=\u001b[0m\u001b[0mload_data_for_subject\u001b[0m\u001b[0;34m(\u001b[0m\u001b[0msub\u001b[0m\u001b[0;34m,\u001b[0m \u001b[0mall_phase\u001b[0m\u001b[0;34m,\u001b[0m \u001b[0mphase\u001b[0m\u001b[0;34m,\u001b[0m \u001b[0mpathstring\u001b[0m\u001b[0;34m,\u001b[0m \u001b[0mbehavestring\u001b[0m\u001b[0;34m,\u001b[0m \u001b[0mis_pres\u001b[0m\u001b[0;34m)\u001b[0m\u001b[0;34m\u001b[0m\u001b[0m\n\u001b[0m\u001b[1;32m    111\u001b[0m             \u001b[0mpreprocess_subject_dfs\u001b[0m\u001b[0;34m(\u001b[0m\u001b[0msub\u001b[0m\u001b[0;34m,\u001b[0m \u001b[0mphase\u001b[0m\u001b[0;34m,\u001b[0m \u001b[0;34m*\u001b[0m\u001b[0moutput\u001b[0m\u001b[0;34m)\u001b[0m\u001b[0;34m\u001b[0m\u001b[0m\n\u001b[1;32m    112\u001b[0m             \u001b[0mprint\u001b[0m\u001b[0;34m(\u001b[0m\u001b[0msub\u001b[0m\u001b[0;34m,\u001b[0m \u001b[0;34m'is done!'\u001b[0m\u001b[0;34m)\u001b[0m\u001b[0;34m\u001b[0m\u001b[0m\n",
      "\u001b[0;32m~/Box Sync/data_visualizations/locationspace/eyepackage/runEyeBehaveAnalysis.py\u001b[0m in \u001b[0;36mload_data_for_subject\u001b[0;34m(sub, phase_eye_files, phase, eyestring, behavestring, is_pres)\u001b[0m\n\u001b[1;32m     36\u001b[0m     \u001b[0meye_phase_sub\u001b[0m\u001b[0;34m=\u001b[0m\u001b[0mphase_eye_files\u001b[0m\u001b[0;34m[\u001b[0m\u001b[0mphase_eye_files\u001b[0m\u001b[0;34m[\u001b[0m\u001b[0;34m'subject'\u001b[0m\u001b[0;34m]\u001b[0m\u001b[0;34m==\u001b[0m\u001b[0msub\u001b[0m\u001b[0;34m]\u001b[0m\u001b[0;34m\u001b[0m\u001b[0m\n\u001b[1;32m     37\u001b[0m     \u001b[0mprint\u001b[0m\u001b[0;34m(\u001b[0m\u001b[0msub\u001b[0m\u001b[0;34m)\u001b[0m\u001b[0;34m\u001b[0m\u001b[0m\n\u001b[0;32m---> 38\u001b[0;31m     \u001b[0meyearray\u001b[0m \u001b[0;34m=\u001b[0m \u001b[0mread_in_eye_data\u001b[0m\u001b[0;34m(\u001b[0m\u001b[0meye_phase_sub\u001b[0m\u001b[0;34m,\u001b[0m\u001b[0meyestring\u001b[0m\u001b[0;34m,\u001b[0m\u001b[0mphase\u001b[0m\u001b[0;34m)\u001b[0m\u001b[0;34m\u001b[0m\u001b[0m\n\u001b[0m\u001b[1;32m     39\u001b[0m     \u001b[0;32mif\u001b[0m \u001b[0;32mnot\u001b[0m \u001b[0mlen\u001b[0m\u001b[0;34m(\u001b[0m\u001b[0meyearray\u001b[0m\u001b[0;34m)\u001b[0m\u001b[0;34m:\u001b[0m\u001b[0;34m\u001b[0m\u001b[0m\n\u001b[1;32m     40\u001b[0m         \u001b[0mprint\u001b[0m\u001b[0;34m(\u001b[0m\u001b[0;34m'eyearray is empty!'\u001b[0m\u001b[0;34m)\u001b[0m\u001b[0;34m\u001b[0m\u001b[0m\n",
      "\u001b[0;32m~/Box Sync/data_visualizations/locationspace/eyepackage/eye_parse.py\u001b[0m in \u001b[0;36mread_in_eye_data\u001b[0;34m(eye_phase_sub, eyestring, phase)\u001b[0m\n\u001b[1;32m    126\u001b[0m \u001b[0;34m\u001b[0m\u001b[0m\n\u001b[1;32m    127\u001b[0m \u001b[0;32mdef\u001b[0m \u001b[0mread_in_eye_data\u001b[0m\u001b[0;34m(\u001b[0m\u001b[0meye_phase_sub\u001b[0m\u001b[0;34m,\u001b[0m\u001b[0meyestring\u001b[0m\u001b[0;34m,\u001b[0m\u001b[0mphase\u001b[0m\u001b[0;34m)\u001b[0m\u001b[0;34m:\u001b[0m\u001b[0;34m\u001b[0m\u001b[0m\n\u001b[0;32m--> 128\u001b[0;31m     \u001b[0meye_events\u001b[0m\u001b[0;34m=\u001b[0m\u001b[0mparse_eye_line\u001b[0m\u001b[0;34m(\u001b[0m\u001b[0meye_phase_sub\u001b[0m\u001b[0;34m,\u001b[0m\u001b[0meyestring\u001b[0m\u001b[0;34m,\u001b[0m\u001b[0mphase\u001b[0m\u001b[0;34m)\u001b[0m\u001b[0;34m\u001b[0m\u001b[0m\n\u001b[0m\u001b[1;32m    129\u001b[0m     \u001b[0meyedf\u001b[0m\u001b[0;34m=\u001b[0m\u001b[0mevents_to_df\u001b[0m\u001b[0;34m(\u001b[0m\u001b[0meye_events\u001b[0m\u001b[0;34m)\u001b[0m\u001b[0;34m\u001b[0m\u001b[0m\n\u001b[1;32m    130\u001b[0m     \u001b[0meyearray\u001b[0m\u001b[0;34m=\u001b[0m\u001b[0meventsdf_cleanup\u001b[0m\u001b[0;34m(\u001b[0m\u001b[0meyedf\u001b[0m\u001b[0;34m)\u001b[0m\u001b[0;34m\u001b[0m\u001b[0m\n",
      "\u001b[0;32m~/Box Sync/data_visualizations/locationspace/eyepackage/eye_parse.py\u001b[0m in \u001b[0;36mparse_eye_line\u001b[0;34m(eye_phase_sub, eyestring, phase)\u001b[0m\n\u001b[1;32m     85\u001b[0m                         \u001b[0;32mcontinue\u001b[0m\u001b[0;34m\u001b[0m\u001b[0m\n\u001b[1;32m     86\u001b[0m                     \u001b[0mevents\u001b[0m\u001b[0;34m.\u001b[0m\u001b[0mappend\u001b[0m\u001b[0;34m(\u001b[0m\u001b[0mnewline\u001b[0m\u001b[0;34m)\u001b[0m\u001b[0;34m\u001b[0m\u001b[0m\n\u001b[0;32m---> 87\u001b[0;31m             \u001b[0mprint\u001b[0m\u001b[0;34m(\u001b[0m\u001b[0mtrialnum\u001b[0m\u001b[0;34m,\u001b[0m \u001b[0mblock\u001b[0m\u001b[0;34m,\u001b[0m \u001b[0mstartcount\u001b[0m\u001b[0;34m)\u001b[0m\u001b[0;34m\u001b[0m\u001b[0m\n\u001b[0m\u001b[1;32m     88\u001b[0m     \u001b[0;32mreturn\u001b[0m \u001b[0mevents\u001b[0m\u001b[0;34m\u001b[0m\u001b[0m\n\u001b[1;32m     89\u001b[0m \u001b[0;34m\u001b[0m\u001b[0m\n",
      "\u001b[0;31mKeyboardInterrupt\u001b[0m: "
     ]
    }
   ],
   "source": [
    "run_all()"
   ]
  },
  {
   "cell_type": "code",
   "execution_count": null,
   "metadata": {},
   "outputs": [],
   "source": []
  }
 ],
 "metadata": {
  "kernelspec": {
   "display_name": "Python 3",
   "language": "python",
   "name": "python3"
  },
  "language_info": {
   "codemirror_mode": {
    "name": "ipython",
    "version": 3
   },
   "file_extension": ".py",
   "mimetype": "text/x-python",
   "name": "python",
   "nbconvert_exporter": "python",
   "pygments_lexer": "ipython3",
   "version": "3.6.5"
  }
 },
 "nbformat": 4,
 "nbformat_minor": 2
}
