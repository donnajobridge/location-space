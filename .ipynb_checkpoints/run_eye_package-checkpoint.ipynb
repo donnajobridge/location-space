{
 "cells": [
  {
   "cell_type": "code",
   "execution_count": 3,
   "metadata": {},
   "outputs": [
    {
     "name": "stdout",
     "output_type": "stream",
     "text": [
      "The autoreload extension is already loaded. To reload it, use:\n",
      "  %reload_ext autoreload\n"
     ]
    }
   ],
   "source": [
    "from eyepackage.runEyeBehaveAnalysis import *\n",
    "from eyepackage.run_figs import *\n",
    "\n",
    "%load_ext autoreload\n",
    "%autoreload 2"
   ]
  },
  {
   "cell_type": "code",
   "execution_count": 4,
   "metadata": {},
   "outputs": [
    {
     "name": "stdout",
     "output_type": "stream",
     "text": [
      "data/ec105studyeyebehave.csv\n",
      "data/ec106studyeyebehave.csv\n",
      "data/ec107studyeyebehave.csv\n",
      "data/ec108studyeyebehave.csv\n",
      "data/ec109studyeyebehave.csv\n",
      "data/ec105refresheyebehave.csv\n",
      "data/ec106refresheyebehave.csv\n",
      "data/ec107refresheyebehave.csv\n",
      "data/ec108refresheyebehave.csv\n",
      "data/ec109refresheyebehave.csv\n",
      "data/ec105recogeyebehave.csv\n",
      "data/ec106recogeyebehave.csv\n",
      "data/ec107recogeyebehave.csv\n",
      "data/ec108recogeyebehave.csv\n",
      "data/ec109recogeyebehave.csv\n"
     ]
    },
    {
     "data": {
      "text/plain": [
       "<Figure size 432x288 with 0 Axes>"
      ]
     },
     "metadata": {},
     "output_type": "display_data"
    }
   ],
   "source": [
    "run_all_figs()\n",
    "# run_all()"
   ]
  },
  {
   "cell_type": "code",
   "execution_count": null,
   "metadata": {},
   "outputs": [],
   "source": []
  }
 ],
 "metadata": {
  "kernelspec": {
   "display_name": "Python 3",
   "language": "python",
   "name": "python3"
  }
 },
 "nbformat": 4,
 "nbformat_minor": 2
}
