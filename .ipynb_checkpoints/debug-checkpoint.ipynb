{
 "cells": [
  {
   "cell_type": "code",
   "execution_count": 14,
   "metadata": {},
   "outputs": [],
   "source": [
    "%reload_ext autoreload\n",
    "%autoreload 2"
   ]
  },
  {
   "cell_type": "code",
   "execution_count": 22,
   "metadata": {},
   "outputs": [],
   "source": [
    "from eyepackage.runEyeBehaveAnalysis import load_data_for_subject, get_refresh_all"
   ]
  },
  {
   "cell_type": "code",
   "execution_count": 19,
   "metadata": {},
   "outputs": [],
   "source": [
    "sub = 'ec107'\n",
    "behavestring='/Volumes/Voss_Lab/ECOG/ecog/locationspace/ecog.behave/'\n",
    "\n",
    "bpath = set_behavior_path(sub, behavestring)\n",
    "tpath = set_times_path(sub, behavestring)\n",
    "bpath, tpath\n",
    "pathstring='/Volumes/Voss_Lab/ECOG/ecog/locationspace/ecog.eye/'\n",
    "\n"
   ]
  },
  {
   "cell_type": "code",
   "execution_count": 25,
   "metadata": {},
   "outputs": [
    {
     "name": "stdout",
     "output_type": "stream",
     "text": [
      "['ec107']\n",
      "    block         fname phase subject\n",
      "14      1  ec107a1r.asc     a   ec107\n",
      "8       2  ec107a2r.asc     a   ec107\n",
      "18      3  ec107a3r.asc     a   ec107\n",
      "16      4  ec107a4r.asc     a   ec107\n",
      "10      5  ec107a5r.asc     a   ec107\n"
     ]
    }
   ],
   "source": [
    "refresh_all = get_refresh_all(subids=[sub], pathstring=pathstring)"
   ]
  },
  {
   "cell_type": "code",
   "execution_count": 27,
   "metadata": {},
   "outputs": [
    {
     "name": "stdout",
     "output_type": "stream",
     "text": [
      "ec107\n",
      "len(behavearray) 128\n",
      "len(reftimes) 128\n"
     ]
    }
   ],
   "source": [
    "eyearray,behavearray,timesarray = run_subject(sub, refresh_all, pathstring, behavestring, is_pres=True)"
   ]
  },
  {
   "cell_type": "code",
   "execution_count": 29,
   "metadata": {},
   "outputs": [
    {
     "data": {
      "text/plain": [
       "((4730, 11), (128, 22))"
      ]
     },
     "execution_count": 29,
     "metadata": {},
     "output_type": "execute_result"
    }
   ],
   "source": [
    "eyearray.shape, behavearray.shape"
   ]
  },
  {
   "cell_type": "code",
   "execution_count": 4,
   "metadata": {},
   "outputs": [],
   "source": [
    "def eye_behave_combo(eyearray,behavearray,timesarray):\n",
    "    eyebehave=eyearray.copy()\n",
    "\n",
    "    eyecols=eyebehave.columns.tolist()\n",
    "    behavecols=['loc1x','loc1y','loc2x','loc2y','loc3x','loc3y','recog loc','same/diff','cond']\n",
    "    allcols=eyecols+behavecols+['objonset','trialend']\n",
    "    eyebehave=eyebehave.reindex(columns=allcols)\n",
    "\n",
    "    for trial,col in enumerate(behavearray):\n",
    "        eyetrialevents=(eyebehave['trialnum']==trial+1)\n",
    "        eyetrial=eyebehave.loc[eyetrialevents]\n",
    "\n",
    "        behtrialevents=(behavearray['refresh order']==trial+1)\n",
    "        behtrial=behavearray.loc[behtrialevents]\n",
    "        for col in behavecols:\n",
    "            eyetrial.loc[eyetrialevents,col]=behtrial.iloc[0][col]\n",
    "\n",
    "        objonsetmask=timesarray.index==trial\n",
    "        onsettrial=timesarray.loc[objonsetmask]\n",
    "        eyetrial.loc[eyetrialevents,'objonset']=onsettrial.iloc[0]['objonset']\n",
    "        eyetrial.loc[eyetrialevents,'trialend']=onsettrial.iloc[0]['trialend']\n",
    "\n",
    "        eyebehave.loc[eyetrialevents]=eyetrial\n",
    "    return eyebehave\n",
    "\n",
    "\n"
   ]
  },
  {
   "cell_type": "code",
   "execution_count": 6,
   "metadata": {},
   "outputs": [
    {
     "ename": "NameError",
     "evalue": "name 'eyearray' is not defined",
     "output_type": "error",
     "traceback": [
      "\u001b[0;31m---------------------------------------------------------------------------\u001b[0m",
      "\u001b[0;31mNameError\u001b[0m                                 Traceback (most recent call last)",
      "\u001b[0;32m<ipython-input-6-c4843e396ec0>\u001b[0m in \u001b[0;36m<module>\u001b[0;34m()\u001b[0m\n\u001b[0;32m----> 1\u001b[0;31m \u001b[0meyebehave\u001b[0m\u001b[0;34m=\u001b[0m\u001b[0meye_behave_combo\u001b[0m\u001b[0;34m(\u001b[0m\u001b[0meyearray\u001b[0m\u001b[0;34m,\u001b[0m\u001b[0mbehavearray\u001b[0m\u001b[0;34m,\u001b[0m\u001b[0mtimesarray\u001b[0m\u001b[0;34m)\u001b[0m\u001b[0;34m\u001b[0m\u001b[0m\n\u001b[0m",
      "\u001b[0;31mNameError\u001b[0m: name 'eyearray' is not defined"
     ]
    }
   ],
   "source": [
    "eyebehave=eye_behave_combo(eyearray,behavearray,reftimes)"
   ]
  },
  {
   "cell_type": "code",
   "execution_count": null,
   "metadata": {},
   "outputs": [],
   "source": []
  }
 ],
 "metadata": {
  "kernelspec": {
   "display_name": "Python 3",
   "language": "python",
   "name": "python3"
  },
  "language_info": {
   "codemirror_mode": {
    "name": "ipython",
    "version": 3
   },
   "file_extension": ".py",
   "mimetype": "text/x-python",
   "name": "python",
   "nbconvert_exporter": "python",
   "pygments_lexer": "ipython3",
   "version": "3.6.5"
  }
 },
 "nbformat": 4,
 "nbformat_minor": 2
}
